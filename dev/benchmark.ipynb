{
 "cells": [
  {
   "cell_type": "code",
   "execution_count": null,
   "id": "08acbe35",
   "metadata": {},
   "outputs": [],
   "source": [
    "using Pkg\n",
    "Pkg.activate(\"../env/\")\n",
    "using BenchmarkTools\n",
    "using Flux\n",
    "import Flux: gpu, DepthwiseConv, @layer\n",
    "using CUDA"
   ]
  },
  {
   "cell_type": "code",
   "execution_count": null,
   "id": "71c93110",
   "metadata": {},
   "outputs": [],
   "source": [
    "include(\"../src/functions/activationlayers.jl\")\n",
    "convprelu = ConvPReLU |> gpu\n",
    "\n",
    "include(\"vecprelu1.jl\")\n",
    "vecprelu1 = vecprelu1 |> gpu\n",
    "\n",
    "include(\"vecprelu2.jl\")\n",
    "vecprelu2 = vecprelu2 |> gpu"
   ]
  },
  {
   "cell_type": "code",
   "execution_count": null,
   "id": "c2e3d257",
   "metadata": {},
   "outputs": [],
   "source": [
    "BenchmarkTools.DEFAULT_PARAMETERS.samples = 5   # 10000"
   ]
  },
  {
   "cell_type": "code",
   "execution_count": null,
   "id": "cfcceb65",
   "metadata": {},
   "outputs": [],
   "source": [
    "X = rand(Float32, 32,32,64,1) |> gpu;"
   ]
  },
  {
   "cell_type": "code",
   "execution_count": null,
   "id": "303aa162",
   "metadata": {},
   "outputs": [],
   "source": [
    "@benchmark vecprelu2(X)"
   ]
  },
  {
   "cell_type": "code",
   "execution_count": null,
   "id": "2d2ef699",
   "metadata": {},
   "outputs": [],
   "source": [
    "@benchmark convprelu(X)"
   ]
  }
 ],
 "metadata": {
  "kernelspec": {
   "display_name": "Julia 1.11.5",
   "language": "julia",
   "name": "julia-1.11"
  },
  "language_info": {
   "file_extension": ".jl",
   "mimetype": "application/julia",
   "name": "julia",
   "version": "1.11.5"
  }
 },
 "nbformat": 4,
 "nbformat_minor": 5
}
