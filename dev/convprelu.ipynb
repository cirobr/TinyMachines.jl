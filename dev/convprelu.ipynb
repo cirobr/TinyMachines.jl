{
 "cells": [
  {
   "cell_type": "code",
   "execution_count": null,
   "id": "5c61d80f",
   "metadata": {},
   "outputs": [],
   "source": [
    "using Pkg\n",
    "Pkg.activate(\"../env/\")\n",
    "using Flux, CUDA\n",
    "using Flux: @layer\n",
    "dev = CUDA.has_cuda_gpu() ? gpu : cpu"
   ]
  },
  {
   "cell_type": "code",
   "execution_count": null,
   "id": "e5cb9254",
   "metadata": {},
   "outputs": [],
   "source": [
    "# PReLU\n",
    "preluweights(ch_in::Int) = Chain(DepthwiseConv((1, 1), ch_in => ch_in;\n",
    "                                 bias=false,\n",
    "                                 init=rand32\n",
    "))\n",
    "\n",
    "struct ConvPReLU\n",
    "    conv::Chain\n",
    "end\n",
    "@layer ConvPReLU\n",
    "\n",
    "function ConvPReLU(ch_in::Int)\n",
    "    return ConvPReLU(preluweights(ch_in))\n",
    "end\n",
    "\n",
    "function (m::ConvPReLU)(x)\n",
    "    return max.(x, 0) .+ m.conv(min.(x, 0))\n",
    "end"
   ]
  },
  {
   "cell_type": "code",
   "execution_count": null,
   "id": "6aec2764",
   "metadata": {},
   "outputs": [],
   "source": [
    "# Synth data\n",
    "k = 8\n",
    "c = 2\n",
    "Xs = randn(Float32, k,k,c,10)\n",
    "ys = rand(Bool, k,k,c,10)\n",
    "# ys = ifelse.(ys, 0.9f0, 0.1f0)\n",
    "\n",
    "data = Flux.DataLoader((Xs, ys)) |> dev"
   ]
  },
  {
   "cell_type": "code",
   "execution_count": null,
   "id": "d82afedb",
   "metadata": {},
   "outputs": [],
   "source": [
    "model = ConvPReLU(c) |> dev"
   ]
  },
  {
   "cell_type": "code",
   "execution_count": null,
   "id": "074e0ad0",
   "metadata": {},
   "outputs": [],
   "source": [
    "loss(model,x,y) = Flux.mse(model(x), y)\n",
    "opt = Flux.Adam()\n",
    "opt_state = Flux.setup(opt, model)"
   ]
  },
  {
   "cell_type": "code",
   "execution_count": null,
   "id": "1123e91e",
   "metadata": {},
   "outputs": [],
   "source": [
    "x = randn(Float32, k,k,c,1) |> dev"
   ]
  },
  {
   "cell_type": "code",
   "execution_count": null,
   "id": "f22ec592",
   "metadata": {},
   "outputs": [],
   "source": [
    "y_before = model(x)\n",
    "weights_before = Flux.destructure(model)[1]"
   ]
  },
  {
   "cell_type": "code",
   "execution_count": null,
   "id": "1228e92b",
   "metadata": {},
   "outputs": [],
   "source": [
    "for _ in 1:10   Flux.train!(loss, model, data, opt_state)   end"
   ]
  },
  {
   "cell_type": "code",
   "execution_count": null,
   "id": "c334ef9b",
   "metadata": {},
   "outputs": [],
   "source": [
    "weights_after = Flux.destructure(model)[1]\n",
    "@assert weights_before != weights_after || error(\"Weights should have been updated after training\")\n",
    "\n",
    "y_after = model(x)\n",
    "@assert y_before != y_after || error(\"Model should have been changed after training\")"
   ]
  }
 ],
 "metadata": {
  "kernelspec": {
   "display_name": "Julia 1.11.5",
   "language": "julia",
   "name": "julia-1.11"
  },
  "language_info": {
   "file_extension": ".jl",
   "mimetype": "application/julia",
   "name": "julia",
   "version": "1.11.5"
  }
 },
 "nbformat": 4,
 "nbformat_minor": 5
}
