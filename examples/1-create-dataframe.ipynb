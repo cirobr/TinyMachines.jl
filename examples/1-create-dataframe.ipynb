{
 "cells": [
  {
   "cell_type": "code",
   "execution_count": null,
   "metadata": {},
   "outputs": [],
   "source": [
    "using Pkg\n",
    "envpath = expanduser(\"~/envs/dev/\")\n",
    "Pkg.activate(envpath)\n",
    "\n",
    "# libs\n",
    "using Images\n",
    "using DataFrames\n",
    "using CSV\n",
    "using Random\n",
    "using MLUtils: splitobs"
   ]
  },
  {
   "cell_type": "code",
   "execution_count": null,
   "metadata": {},
   "outputs": [],
   "source": [
    "# input folders\n",
    "datasetPath = \"~/datasets/pascalvoc/VOCdevkit/VOC2012/\"         # path to downloaded/extracted dataset\n",
    "imagesPath  = datasetPath * \"JPEGImages/\"\n",
    "masksPath   = datasetPath * \"SegmentationClass/\"\n",
    "classlist   = datasetPath * \"ImageSets/Main/cow_trainval.txt\"   # class of interest\n",
    "\n",
    "# output folders\n",
    "workpath = pwd() * \"/\"\n",
    "workpath = replace(workpath, homedir() => \"~\")"
   ]
  },
  {
   "cell_type": "code",
   "execution_count": null,
   "metadata": {},
   "outputs": [],
   "source": [
    "# create data frame from classlist\n",
    "df = CSV.read(expanduser(classlist), header=false, DataFrame)\n",
    "\n",
    "# split columns\n",
    "df = DataFrame(filename=first.(split.(df[:,1], ' ')), label=last.(split.(df[:,1], ' ')))\n",
    "df.filename = df.filename .|> String\n",
    "df.label = map(x -> x == \"-1\" ? 0 : 1, df.label)\n",
    "\n",
    "# add new column \"segmented\" to data frame\n",
    "df.segmented = zeros(Int, size(df, 1))\n",
    "first(df, 3)"
   ]
  },
  {
   "cell_type": "code",
   "execution_count": null,
   "metadata": {},
   "outputs": [],
   "source": [
    "# populate segmented column\n",
    "segfiles = readdir(expanduser(masksPath))\n",
    "\n",
    "df.segmented = \n",
    "    [ifelse(row.label == 1 && row.filename * \".png\" in segfiles, 1, 0) \n",
    "    for row in eachrow(df)]\n",
    "\n",
    "sum(df.segmented)\n",
    "first(df, 3)"
   ]
  },
  {
   "cell_type": "code",
   "execution_count": null,
   "metadata": {},
   "outputs": [],
   "source": [
    "# split segmented dataset in train, valid, test\n",
    "df = df[df.segmented .== 1, :]\n",
    "N = size(df, 1)\n",
    "Random.seed!(1234)\n",
    "indtrain, indval, indtest = splitobs(1:N, at = (0.70, 0.20), shuffle = true)\n",
    "dftrain = df[indtrain, :]\n",
    "dfvalid = df[indval, :]\n",
    "dftest  = df[indtest, :]\n",
    "\n",
    "size(dftrain), size(dfvalid), size(dftest)"
   ]
  },
  {
   "cell_type": "code",
   "execution_count": null,
   "metadata": {},
   "outputs": [],
   "source": [
    "# make X addresses\n",
    "dftrain.X = imagesPath .* dftrain.filename .* \".jpg\"\n",
    "dfvalid.X = imagesPath .* dfvalid.filename .* \".jpg\"\n",
    "dftest.X  = imagesPath .* dftest.filename .* \".jpg\"\n",
    "\n",
    "# make y addresses\n",
    "dftrain.y = masksPath .* dftrain.filename .* \".png\"\n",
    "dfvalid.y = masksPath .* dfvalid.filename .* \".png\"\n",
    "dftest.y  = masksPath .* dftest.filename .* \".png\"\n",
    "\n",
    "# select only (X, y) columns\n",
    "dftrain = select!(dftrain, [:X, :y])\n",
    "dfvalid = select!(dfvalid, [:X, :y])\n",
    "dftest  = select!(dftest, [:X, :y])"
   ]
  },
  {
   "cell_type": "code",
   "execution_count": null,
   "metadata": {},
   "outputs": [],
   "source": [
    "# save datasets\n",
    "CSV.write(expanduser(workpath) * \"dftrain.csv\", dftrain)\n",
    "CSV.write(expanduser(workpath) * \"dfvalid.csv\", dfvalid)\n",
    "CSV.write(expanduser(workpath) * \"dftest.csv\", dftest)"
   ]
  },
  {
   "cell_type": "code",
   "execution_count": null,
   "metadata": {},
   "outputs": [],
   "source": [
    "# checkpoint\n",
    "df = CSV.read(expanduser(workpath) * \"dftrain.csv\", DataFrame)\n",
    "\n",
    "k = rand(1:size(df, 1))\n",
    "img = Images.load(expanduser(df.X[k]))\n",
    "msk = Images.load(expanduser(df.y[k]))\n",
    "mosaicview([img, msk]; nrow=1)"
   ]
  }
 ],
 "metadata": {
  "kernelspec": {
   "display_name": "Julia 1.10.7",
   "language": "julia",
   "name": "julia-1.10"
  },
  "language_info": {
   "file_extension": ".jl",
   "mimetype": "application/julia",
   "name": "julia",
   "version": "1.10.7"
  }
 },
 "nbformat": 4,
 "nbformat_minor": 2
}
