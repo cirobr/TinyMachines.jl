{
 "cells": [
  {
   "cell_type": "markdown",
   "metadata": {},
   "source": [
    "pascalvoc: resize original images"
   ]
  },
  {
   "cell_type": "markdown",
   "metadata": {},
   "source": [
    "Strategy:\n",
    "1. Read: Images RGB / Masks RGB (original dataset)\n",
    "2. Pad (512,512) for training\n",
    "3. Save: Images RGB / Masks RGB"
   ]
  },
  {
   "cell_type": "code",
   "execution_count": null,
   "metadata": {},
   "outputs": [],
   "source": [
    "padsize = (512,512)"
   ]
  },
  {
   "cell_type": "markdown",
   "metadata": {},
   "source": [
    "environment"
   ]
  },
  {
   "cell_type": "code",
   "execution_count": null,
   "metadata": {},
   "outputs": [],
   "source": [
    "using Pkg\n",
    "envpath = expanduser(\"~/envs/dev/\")\n",
    "Pkg.activate(envpath)"
   ]
  },
  {
   "cell_type": "code",
   "execution_count": 12,
   "metadata": {},
   "outputs": [],
   "source": [
    "# libs\n",
    "using Images\n",
    "using DataFrames\n",
    "using CSV\n",
    "using FLoops"
   ]
  },
  {
   "cell_type": "code",
   "execution_count": null,
   "metadata": {},
   "outputs": [],
   "source": [
    "function pad_image(img, newsize)\n",
    "    if any(size(img) .> newsize)   error(\"newsize must be larger than img\")   end\n",
    "    pad = ((newsize[1] - size(img, 1)) ÷ 2, (newsize[2] - size(img, 2)) ÷ 2)\n",
    "    return Images.PaddedView(0, img, newsize, pad)\n",
    "end"
   ]
  },
  {
   "cell_type": "code",
   "execution_count": null,
   "metadata": {},
   "outputs": [],
   "source": [
    "# input folders\n",
    "datasetPath = \"~/datasets/pascalvoc/VOCdevkit/VOC2012/\"\n",
    "imagesPath  = datasetPath * \"JPEGImages/\"\n",
    "masksPath   = datasetPath * \"SegmentationClass/\"\n",
    "classlist   = datasetPath * \"ImageSets/Main/cow_trainval.txt\"\n",
    "\n",
    "# output folders\n",
    "workpath = pwd() * \"/\"\n",
    "workpath = replace(workpath, homedir() => \"~\")\n",
    "resizedImagesPath = workpath * \"dataset/images/\"\n",
    "resizedMasksPath  = workpath * \"dataset/masks/\"\n",
    "mkpath(expanduser(resizedImagesPath))\n",
    "mkpath(expanduser(resizedMasksPath))"
   ]
  },
  {
   "cell_type": "markdown",
   "metadata": {},
   "source": [
    "input dataset"
   ]
  },
  {
   "cell_type": "code",
   "execution_count": 15,
   "metadata": {},
   "outputs": [],
   "source": [
    "fpfn = expanduser(workpath) * \"dftrain.csv\"\n",
    "dftrain = CSV.read(fpfn, DataFrame)\n",
    "fpfn = expanduser(workpath) * \"dfvalid.csv\"\n",
    "dfvalid = CSV.read(fpfn, DataFrame)\n",
    "fpfn = expanduser(workpath) * \"dftest.csv\"\n",
    "dftest = CSV.read(fpfn, DataFrame);"
   ]
  },
  {
   "cell_type": "markdown",
   "metadata": {},
   "source": [
    "resize dataset"
   ]
  },
  {
   "cell_type": "code",
   "execution_count": 16,
   "metadata": {},
   "outputs": [],
   "source": [
    "# resize images and masks\n",
    "dfs   = [dftrain, dfvalid, dftest]\n",
    "\n",
    "for df in dfs\n",
    "@floop for row in eachrow(df)\n",
    "    # images\n",
    "    fpfn = expanduser(row.X)\n",
    "    img = Images.load(fpfn)                          # read\n",
    "    img = pad_image(img, padsize) .|> RGB            # pad\n",
    "    fpfn = expanduser(resizedImagesPath) * basename(fpfn)\n",
    "    Images.save(fpfn, img)                           # save\n",
    "\n",
    "    # masks\n",
    "    fpfn = expanduser(row.y)\n",
    "    mask = Images.load(fpfn)                     # read\n",
    "    mask = pad_image(mask, padsize) .|> RGB      # pad\n",
    "    fpfn = expanduser(resizedMasksPath) * basename(fpfn)\n",
    "    Images.save(fpfn, mask)                      # save\n",
    "end\n",
    "end"
   ]
  },
  {
   "cell_type": "code",
   "execution_count": null,
   "metadata": {},
   "outputs": [],
   "source": [
    "# create data frames\n",
    "dftrain_resized = dftrain\n",
    "dftrain_resized.X = @. resizedImagesPath * basename(dftrain.X)\n",
    "dftrain_resized.y = @. resizedMasksPath  * basename(dftrain.y)\n",
    "\n",
    "dfvalid_resized = dfvalid\n",
    "dfvalid_resized.X = @. resizedImagesPath * basename(dfvalid.X)\n",
    "dfvalid_resized.y = @. resizedMasksPath  * basename(dfvalid.y)\n",
    "\n",
    "dftest_resized = dftest\n",
    "dftest_resized.X = @. resizedImagesPath * basename(dftest.X)\n",
    "dftest_resized.y = @. resizedMasksPath  * basename(dftest.y)\n",
    "\n",
    "# save data frames\n",
    "fpfn = expanduser(workpath) * \"dftrain-resized.csv\"\n",
    "CSV.write(fpfn, dftrain_resized)\n",
    "fpfn = expanduser(workpath) * \"dfvalid-resized.csv\"\n",
    "CSV.write(fpfn, dfvalid_resized)\n",
    "fpfn = expanduser(workpath) * \"dftest-resized.csv\"\n",
    "CSV.write(fpfn, dftest_resized)"
   ]
  },
  {
   "cell_type": "code",
   "execution_count": null,
   "metadata": {},
   "outputs": [],
   "source": [
    "# checkpoint\n",
    "df = CSV.read(expanduser(workpath) * \"dftrain-resized.csv\", DataFrame)\n",
    "\n",
    "k = rand(1:size(df, 1))\n",
    "img = Images.load(expanduser(df.X[k]))\n",
    "msk = Images.load(expanduser(df.y[k]))\n",
    "mosaicview([img, msk]; nrow=1)"
   ]
  }
 ],
 "metadata": {
  "kernelspec": {
   "display_name": "Julia 1.10.7",
   "language": "julia",
   "name": "julia-1.10"
  },
  "language_info": {
   "file_extension": ".jl",
   "mimetype": "application/julia",
   "name": "julia",
   "version": "1.10.7"
  }
 },
 "nbformat": 4,
 "nbformat_minor": 2
}
